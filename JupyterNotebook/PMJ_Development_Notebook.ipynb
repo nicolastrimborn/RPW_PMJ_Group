{
  "nbformat": 4,
  "nbformat_minor": 0,
  "metadata": {
    "colab": {
      "name": "PMJ_Development_Notebook",
      "provenance": [],
      "collapsed_sections": [],
      "toc_visible": true,
      "include_colab_link": true
    },
    "kernelspec": {
      "display_name": "Python 3",
      "name": "python3"
    }
  },
  "cells": [
    {
      "cell_type": "markdown",
      "metadata": {
        "id": "view-in-github",
        "colab_type": "text"
      },
      "source": [
        "<a href=\"https://colab.research.google.com/github/nicolastrimborn/RPW_PMJ_Group/blob/master/JupyterNotebook/PMJ_Development_Notebook.ipynb\" target=\"_parent\"><img src=\"https://colab.research.google.com/assets/colab-badge.svg\" alt=\"Open In Colab\"/></a>"
      ]
    },
    {
      "cell_type": "markdown",
      "metadata": {
        "colab_type": "text",
        "id": "IkgMtxNTiLd7"
      },
      "source": [
        "# HotEnd"
      ]
    },
    {
      "cell_type": "markdown",
      "metadata": {
        "colab_type": "text",
        "id": "GacBLgcMiYh2"
      },
      "source": [
        "### Hardware\n",
        "![alt text](https://drive.google.com/uc?id=1mgSImOT2LJb-yuMfArm2hazKT6hKeQA0)"
      ]
    },
    {
      "cell_type": "markdown",
      "metadata": {
        "colab_type": "text",
        "id": "g4nDO7bkiiZU"
      },
      "source": [
        "[RTD Module](https://www.beckhoff.com/EL3202/)\\\n",
        "[Datasheet](https://download.beckhoff.com/download/document/io/ethercat-terminals/el32xxen.pdf)\n",
        "\n",
        "If the EL3201/EL3202 is operated with a two-wire connection, the inputs +R and +RL must be bridged by the user.\n",
        "\n",
        "P100 Measurement at Room Temp With Leads = 109 Ohm\n",
        "Module \"Value\" Reading at RT = 221"
      ]
    },
    {
      "cell_type": "markdown",
      "metadata": {
        "colab_type": "text",
        "id": "Ldp-n6uMyG-z"
      },
      "source": [
        "### Scaling\n",
        "\n",
        "ADC value of EL3202 is stored as INT type.\n",
        "* LB = -32768\n",
        "* UB= 32767\n",
        "* Memory = 16 Bit"
      ]
    },
    {
      "cell_type": "markdown",
      "metadata": {
        "colab_type": "text",
        "id": "view-in-github"
      },
      "source": [
        "<a href=\"https://colab.research.google.com/github/nicolastrimborn/RPW_PMJ_Group/blob/master/JupyterNotebook/Maxon_Motor_Control.ipynb\" target=\"_parent\"><img src=\"https://colab.research.google.com/assets/colab-badge.svg\" alt=\"Open In Colab\"/></a>"
      ]
    },
    {
      "cell_type": "markdown",
      "metadata": {
        "colab_type": "text",
        "id": "x0Y6qwmC3YHL"
      },
      "source": [
        "# Motor Control"
      ]
    },
    {
      "cell_type": "markdown",
      "metadata": {
        "colab_type": "text",
        "id": "lynqujna-V_H"
      },
      "source": [
        "## Drive State\n",
        "![alt text](https://drive.google.com/uc?id=14Kwsdnyo5GGpvTvo5LNxnTdDEfRBDR3I)"
      ]
    },
    {
      "cell_type": "markdown",
      "metadata": {
        "colab_type": "text",
        "id": "X0Zi6BGd3gRe"
      },
      "source": [
        "## Control Word\n",
        "![alt text](https://drive.google.com/uc?id=1_4RG8IrNsgCcCCZuwJhPFGzfX31RgPZW)"
      ]
    },
    {
      "cell_type": "markdown",
      "metadata": {
        "colab_type": "text",
        "id": "MnwmpVZp3kmT"
      },
      "source": [
        "## Status Word\n",
        "![alt text](https://drive.google.com/uc?id=1MAXy9yOu0d468Aeazjn73ph9VA1ugjU_)"
      ]
    },
    {
      "cell_type": "markdown",
      "metadata": {
        "colab_type": "text",
        "id": "Th4ez3LOTOvz"
      },
      "source": [
        "## Encoder Scaling\n",
        "Motor: [link text](http://www.servovision.com/Motor1/E/157.pdf)\\\n",
        "Encoder: [link text](https://www.maxongroup.com/medias/sys_master/root/8831078924318/2018EN-419.pdf)\\\n",
        "Gearbox [link text](https://www.maxongroup.com/medias/sys_master/root/8831028494366/2018EN-333.pdf)\\\n",
        "Motor and GB Combo:  [link text](https://www.maxongroup.com/maxon/view/service_search?query=359565)"
      ]
    },
    {
      "cell_type": "markdown",
      "metadata": {
        "colab_type": "text",
        "id": "y8-hccflqQ44"
      },
      "source": [
        "![image.png](data:image/png;base64,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)"
      ]
    },
    {
      "cell_type": "code",
      "metadata": {
        "colab_type": "code",
        "id": "oociQdgBqfI6",
        "outputId": "0d43bd26-1248-473d-95c1-3a9d39bf7a54",
        "colab": {
          "base_uri": "https://localhost:8080/",
          "height": 34
        }
      },
      "source": [
        "encoderCounts = 512\n",
        "RevolutionDeg = 360\n",
        "GBratio = 128\n",
        "DriveRatio = 3  # 3:1 (20teeth to 60 teeth)\n",
        "SF = (RevolutionDeg/(encoderCounts*4))/GBratio * DriveRatio\n",
        "print('Scaling factor: ', SF)"
      ],
      "execution_count": 0,
      "outputs": [
        {
          "output_type": "stream",
          "text": [
            "Scaling factor:  0.004119873046875\n"
          ],
          "name": "stdout"
        }
      ]
    },
    {
      "cell_type": "markdown",
      "metadata": {
        "colab_type": "text",
        "id": "AxU77ddrVNzy"
      },
      "source": [
        "<a href=\"https://colab.research.google.com/github/nicolastrimborn/RPW_PMJ_Group/blob/master/JupyterNotebook/StepperMotor.ipynb\" target=\"_parent\"><img src=\"https://colab.research.google.com/assets/colab-badge.svg\" alt=\"Open In Colab\"/></a>"
      ]
    },
    {
      "cell_type": "markdown",
      "metadata": {
        "colab_type": "text",
        "id": "COSmYV6aJcdN"
      },
      "source": [
        "# Stepper Motor\n"
      ]
    },
    {
      "cell_type": "markdown",
      "metadata": {
        "colab_type": "text",
        "id": "JSprP1oFLblt"
      },
      "source": [
        "## Specs"
      ]
    },
    {
      "cell_type": "markdown",
      "metadata": {
        "colab_type": "text",
        "id": "6_Ve72gDKopG"
      },
      "source": [
        "![alt text](https://drive.google.com/uc?id=1m0vmRihSnLJvtidjZyr2zxn77GmrcX9z)\n",
        "\n",
        "---\n",
        "\n"
      ]
    },
    {
      "cell_type": "markdown",
      "metadata": {
        "colab_type": "text",
        "id": "X1EgupYmKQ4Y"
      },
      "source": [
        "## Wiring Diagram"
      ]
    },
    {
      "cell_type": "markdown",
      "metadata": {
        "colab_type": "text",
        "id": "w-ZAubdlLncr"
      },
      "source": [
        "![alt text](https://drive.google.com/uc?id=1e1hG3SjZGp06CqxoFPHiZ0RN5QLszW3f)"
      ]
    },
    {
      "cell_type": "markdown",
      "metadata": {
        "colab_type": "text",
        "id": "dIUXOfLEMY4x"
      },
      "source": [
        "## Calculations"
      ]
    },
    {
      "cell_type": "code",
      "metadata": {
        "colab_type": "code",
        "id": "Le3sd1L-MhUd",
        "outputId": "84a20a95-c461-406d-ab9f-a6df9182acd4",
        "colab": {
          "base_uri": "https://localhost:8080/",
          "height": 84
        }
      },
      "source": [
        "# Motor Parameters\n",
        "PI = 3.1415\n",
        "StepAngle = 0.9\n",
        "MotorSteps = 360/StepAngle\n",
        "# Driver Parameters\n",
        "Microstepping = 64\n",
        "StepsPerRevolution = MotorSteps * Microstepping\n",
        "# Extruder Properties\n",
        "GearRatio = 3\n",
        "HobbDia = 7.3\n",
        "\n",
        "# Extruder Steps per 1mm of Filament\n",
        "eStepsPerMM = (MotorSteps * Microstepping * GearRatio)/(HobbDia * PI)\n",
        "MMPerStep = 1/eStepsPerMM\n",
        "DistancePerRevolution = StepsPerRevolution * MMPerStep\n",
        "print(\"StepsPerRevolution = \", StepsPerRevolution)\n",
        "print(\"eStepsPerMM = \" ,eStepsPerMM)\n",
        "print(\"MMPerStep = \" ,MMPerStep)\n",
        "print(\"DistancePerRevolution = \" ,DistancePerRevolution)"
      ],
      "execution_count": 0,
      "outputs": [
        {
          "output_type": "stream",
          "text": [
            "StepsPerRevolution =  25600.0\n",
            "eStepsPerMM =  3348.893186441343\n",
            "MMPerStep =  0.0002986061197916667\n",
            "DistancePerRevolution =  7.6443166666666675\n"
          ],
          "name": "stdout"
        }
      ]
    },
    {
      "cell_type": "markdown",
      "metadata": {
        "colab_type": "text",
        "id": "Apkd4BytWQrl"
      },
      "source": [
        "### Beckoff tool\n",
        "![alt text](https://drive.google.com/uc?id=1BjXWi_dFCCp3zlSrKMNpVrAWMXN_VJxx)"
      ]
    },
    {
      "cell_type": "markdown",
      "metadata": {
        "colab_type": "text",
        "id": "_ZuTbro1dkQf"
      },
      "source": [
        "### Fine Tuning\n",
        "https://e3d-online.dozuki.com/Guide/Titan+Marlin+Configuration/35"
      ]
    },
    {
      "cell_type": "code",
      "metadata": {
        "colab_type": "code",
        "id": "ls382r-Adu-b",
        "outputId": "2a1b6d23-3e5b-44f9-d611-56a958c76685",
        "colab": {
          "base_uri": "https://localhost:8080/",
          "height": 34
        }
      },
      "source": [
        "desiredExtDist = 100\n",
        "actualExtDist = 104\n",
        "overExtrudPercent = actualExtDist/desiredExtDist\n",
        "MMPerStepTuned = MMPerStep *overExtrudPercent\n",
        "print(\"MMPerStepTuned=\", MMPerStepTuned)"
      ],
      "execution_count": 0,
      "outputs": [
        {
          "output_type": "stream",
          "text": [
            "MMPerStepTuned= 0.00031055036458333334\n"
          ],
          "name": "stdout"
        }
      ]
    }
  ]
}