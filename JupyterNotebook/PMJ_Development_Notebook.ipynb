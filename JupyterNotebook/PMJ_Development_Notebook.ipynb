{
  "nbformat": 4,
  "nbformat_minor": 0,
  "metadata": {
    "colab": {
      "name": "PMJ_Development_Notebook",
      "provenance": [],
      "collapsed_sections": [],
      "toc_visible": true,
      "include_colab_link": true
    },
    "kernelspec": {
      "display_name": "Python 3",
      "name": "python3"
    }
  },
  "cells": [
    {
      "cell_type": "markdown",
      "metadata": {
        "id": "view-in-github",
        "colab_type": "text"
      },
      "source": [
        "<a href=\"https://colab.research.google.com/github/nicolastrimborn/RPW_PMJ_Group/blob/master/JupyterNotebook/PMJ_Development_Notebook.ipynb\" target=\"_parent\"><img src=\"https://colab.research.google.com/assets/colab-badge.svg\" alt=\"Open In Colab\"/></a>"
      ]
    },
    {
      "cell_type": "markdown",
      "metadata": {
        "id": "vNpIdq5BptBF",
        "colab_type": "text"
      },
      "source": [
        "# Hot End\n",
        "\n",
        "The Hotend is controlled with an EL3202 which is intended for DC motor control but ouputs the required PWM and has the required current capacity (2A combined)"
      ]
    },
    {
      "cell_type": "markdown",
      "metadata": {
        "id": "n2VJ0O1PoWt-",
        "colab_type": "text"
      },
      "source": [
        "\n",
        "## Hardware\n",
        " \n",
        "\n",
        "| Heater | RTD |\n",
        "|--------|-----|\n",
        "|![alt text](https://drive.google.com/uc?id=1mgSImOT2LJb-yuMfArm2hazKT6hKeQA0)        | ![alt text](https://drive.google.com/uc?id=1CI9dN6nvrY5cGpWfGdgr-2OW1aaTft9b)    |\n",
        "|[Datasheet](https://download.beckhoff.com/download/document/io/ethercat-terminals/el32xxen.pdf)        |  [Datasheet](https://download.beckhoff.com/download/document/io/ethercat-terminals/el73x2en.pdf)|   |\n",
        "|[RTD Module](https://www.beckhoff.com/EL3202/)      |   [Motor Module](https://www.beckhoff.com/EL7332/)  |\n",
        "\n",
        "\n",
        "> If the EL3201/EL3202 is operated with a two-wire connection, the inputs +R and +RL must be bridged by the user.\n"
      ]
    },
    {
      "cell_type": "markdown",
      "metadata": {
        "id": "82yfAMeHo4bs",
        "colab_type": "text"
      },
      "source": [
        "## Controller Block\n",
        "\n",
        "\n",
        "Twincat Provides a temperature controller block that was found to work well and was simple to use.  [PID Temp Controller Block](https://infosys.beckhoff.com/english.php?content=../content/1033/tf4110_tc3_temperature_controller/9007199505388299.html&id=)\n",
        "\n",
        "![alt text](https://drive.google.com/uc?id=1kkOZnxfJZQyU2sGiK8h9wxu0s9Vk8_I1)\n",
        "\n",
        "* The Controller Supports Auto Tuning of the parameters and employs the inflectional tangent method to obtain the parameters\n",
        "\n",
        "* Configured with the controller structure - \n",
        "[ST_ControllerParameter](https://infosys.beckhoff.com/english.php?content=../content/1033/tf4110_tc3_temperature_controller/9007199505388299.html&id=)"
      ]
    },
    {
      "cell_type": "markdown",
      "metadata": {
        "id": "AkUxFMktovSx",
        "colab_type": "text"
      },
      "source": [
        "## Scaling\n",
        "\n",
        "ADC value of EL3202 is stored as INT type.\n",
        "* LB = -32768\n",
        "* UB= 32767\n",
        "* Memory = 16 Bit\n",
        "* P100 Measurement at Room Temp With Leads = 109 Ohm Module \"Value\" Reading at RT = 221\n",
        "* The module has a precision of 0.1 °C per digit\n",
        "$$Temp(°C)=\\frac{ADC_{raw}}{10}$$\n",
        "\n"
      ]
    },
    {
      "cell_type": "markdown",
      "metadata": {
        "id": "P7rsHhcbpAHk",
        "colab_type": "text"
      },
      "source": [
        "## Tuning\n",
        "Need to set the Tuning paremeters to minimise overshoot\n",
        "*  In this application We select \n",
        "> Slower settling with low overshoot \n",
        "\n",
        "\n",
        "![alt text](https://drive.google.com/uc?id=1zZEW2b16kl88dzfWfo_rmYUPFFRc3Eg7)"
      ]
    },
    {
      "cell_type": "markdown",
      "metadata": {
        "id": "karWR71uOaAh",
        "colab_type": "text"
      },
      "source": [
        "## State Model"
      ]
    },
    {
      "cell_type": "code",
      "metadata": {
        "colab_type": "code",
        "id": "oociQdgBqfI6",
        "outputId": "a2f7dc7b-3065-4766-9d1e-617e694445a8",
        "colab": {
          "base_uri": "https://localhost:8080/",
          "height": 34
        }
      },
      "source": [
        "encoderCounts = 512\n",
        "RevolutionDeg = 360\n",
        "GBratio = 128\n",
        "DriveRatio = 1  # 3:1 (20teeth to 60 teeth)\n",
        "SF = (RevolutionDeg/(encoderCounts*4))/GBratio * DriveRatio\n",
        "print('Scaling factor: ', SF)"
      ],
      "execution_count": 0,
      "outputs": [
        {
          "output_type": "stream",
          "text": [
            "Scaling factor:  0.001373291015625\n"
          ],
          "name": "stdout"
        }
      ]
    },
    {
      "cell_type": "markdown",
      "metadata": {
        "colab_type": "text",
        "id": "COSmYV6aJcdN"
      },
      "source": [
        "# Stepper Motor\n"
      ]
    },
    {
      "cell_type": "markdown",
      "metadata": {
        "colab_type": "text",
        "id": "JSprP1oFLblt"
      },
      "source": [
        "## Specs"
      ]
    },
    {
      "cell_type": "markdown",
      "metadata": {
        "colab_type": "text",
        "id": "6_Ve72gDKopG"
      },
      "source": [
        "![alt text](https://drive.google.com/uc?id=1m0vmRihSnLJvtidjZyr2zxn77GmrcX9z)\n",
        "\n",
        "---\n",
        "\n"
      ]
    },
    {
      "cell_type": "markdown",
      "metadata": {
        "colab_type": "text",
        "id": "X1EgupYmKQ4Y"
      },
      "source": [
        "## Wiring Diagram"
      ]
    },
    {
      "cell_type": "markdown",
      "metadata": {
        "colab_type": "text",
        "id": "w-ZAubdlLncr"
      },
      "source": [
        "![alt text](https://drive.google.com/uc?id=1e1hG3SjZGp06CqxoFPHiZ0RN5QLszW3f)"
      ]
    },
    {
      "cell_type": "markdown",
      "metadata": {
        "colab_type": "text",
        "id": "dIUXOfLEMY4x"
      },
      "source": [
        "## Calculations"
      ]
    },
    {
      "cell_type": "code",
      "metadata": {
        "colab_type": "code",
        "id": "Le3sd1L-MhUd",
        "outputId": "551a4af5-e2c4-4e8d-d777-347f01b15312",
        "colab": {
          "base_uri": "https://localhost:8080/",
          "height": 85
        }
      },
      "source": [
        "# Motor Parameters\n",
        "PI = 3.1415\n",
        "StepAngle = 0.9\n",
        "MotorSteps = 360/StepAngle\n",
        "# Driver Parameters\n",
        "Microstepping = 64\n",
        "StepsPerRevolution = MotorSteps * Microstepping\n",
        "# Extruder Properties\n",
        "GearRatio = 3\n",
        "HobbDia = 7.3\n",
        "\n",
        "# Extruder Steps per 1mm of Filament\n",
        "eStepsPerMM = (MotorSteps * Microstepping * GearRatio)/(HobbDia * PI)\n",
        "MMPerStep = 1/eStepsPerMM\n",
        "DistancePerRevolution = StepsPerRevolution * MMPerStep\n",
        "print(\"StepsPerRevolution = \", StepsPerRevolution)\n",
        "print(\"eStepsPerMM = \" ,eStepsPerMM)\n",
        "print(\"MMPerStep = \" ,MMPerStep)\n",
        "print(\"DistancePerRevolution = \" ,DistancePerRevolution)"
      ],
      "execution_count": 0,
      "outputs": [
        {
          "output_type": "stream",
          "text": [
            "StepsPerRevolution =  25600.0\n",
            "eStepsPerMM =  3348.893186441343\n",
            "MMPerStep =  0.0002986061197916667\n",
            "DistancePerRevolution =  7.6443166666666675\n"
          ],
          "name": "stdout"
        }
      ]
    },
    {
      "cell_type": "markdown",
      "metadata": {
        "colab_type": "text",
        "id": "Apkd4BytWQrl"
      },
      "source": [
        "### Beckoff tool\n",
        "![alt text](https://drive.google.com/uc?id=1BjXWi_dFCCp3zlSrKMNpVrAWMXN_VJxx)"
      ]
    },
    {
      "cell_type": "markdown",
      "metadata": {
        "colab_type": "text",
        "id": "_ZuTbro1dkQf"
      },
      "source": [
        "### Fine Tuning\n",
        "https://e3d-online.dozuki.com/Guide/Titan+Marlin+Configuration/35"
      ]
    },
    {
      "cell_type": "code",
      "metadata": {
        "colab_type": "code",
        "id": "ls382r-Adu-b",
        "outputId": "184be31c-8f76-4b5b-de87-cfda01e13c3e",
        "colab": {
          "base_uri": "https://localhost:8080/",
          "height": 34
        }
      },
      "source": [
        "desiredExtDist = 100\n",
        "actualExtDist = 104\n",
        "overExtrudPercent = actualExtDist/desiredExtDist\n",
        "MMPerStepTuned = MMPerStep *overExtrudPercent\n",
        "print(\"MMPerStepTuned=\", MMPerStepTuned)"
      ],
      "execution_count": 0,
      "outputs": [
        {
          "output_type": "stream",
          "text": [
            "MMPerStepTuned= 0.00031055036458333334\n"
          ],
          "name": "stdout"
        }
      ]
    },
    {
      "cell_type": "markdown",
      "metadata": {
        "colab_type": "text",
        "id": "x0Y6qwmC3YHL"
      },
      "source": [
        "# Motor Control"
      ]
    },
    {
      "cell_type": "markdown",
      "metadata": {
        "colab_type": "text",
        "id": "lynqujna-V_H"
      },
      "source": [
        "## Drive State\n",
        "![alt text](https://drive.google.com/uc?id=14Kwsdnyo5GGpvTvo5LNxnTdDEfRBDR3I)"
      ]
    },
    {
      "cell_type": "markdown",
      "metadata": {
        "colab_type": "text",
        "id": "MnwmpVZp3kmT"
      },
      "source": [
        "## Status Word\n",
        "![alt text](https://drive.google.com/uc?id=1MAXy9yOu0d468Aeazjn73ph9VA1ugjU_)"
      ]
    },
    {
      "cell_type": "markdown",
      "metadata": {
        "colab_type": "text",
        "id": "ylj0ev7yPzwZ"
      },
      "source": [
        "## Control Word\n",
        "![alt text](https://drive.google.com/uc?id=1_4RG8IrNsgCcCCZuwJhPFGzfX31RgPZW)"
      ]
    },
    {
      "cell_type": "markdown",
      "metadata": {
        "colab_type": "text",
        "id": "Th4ez3LOTOvz"
      },
      "source": [
        "## Encoder Scaling\n",
        "Motor: [link text](http://www.servovision.com/Motor1/E/157.pdf)\\\n",
        "Encoder: [link text](https://www.maxongroup.com/medias/sys_master/root/8831078924318/2018EN-419.pdf)\\\n",
        "Gearbox [link text](https://www.maxongroup.com/medias/sys_master/root/8831028494366/2018EN-333.pdf)\\\n",
        "Motor and GB Combo:  [link text](https://www.maxongroup.com/maxon/view/service_search?query=359565)\n",
        "\n",
        "![alt text](https://drive.google.com/uc?id=1hs4-zDvSwsLzOHgHFSBMAGJ7z_bqDv9g)"
      ]
    }
  ]
}