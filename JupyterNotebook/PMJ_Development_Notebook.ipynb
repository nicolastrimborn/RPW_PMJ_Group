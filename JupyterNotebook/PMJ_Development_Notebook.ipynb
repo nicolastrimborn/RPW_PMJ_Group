{
  "nbformat": 4,
  "nbformat_minor": 0,
  "metadata": {
    "colab": {
      "name": "PMJ_Development_Notebook",
      "provenance": [],
      "collapsed_sections": [],
      "toc_visible": true,
      "include_colab_link": true
    },
    "kernelspec": {
      "display_name": "Python 3",
      "name": "python3"
    }
  },
  "cells": [
    {
      "cell_type": "markdown",
      "metadata": {
        "id": "view-in-github",
        "colab_type": "text"
      },
      "source": [
        "<a href=\"https://colab.research.google.com/github/nicolastrimborn/RPW_PMJ_Group/blob/master/JupyterNotebook/PMJ_Development_Notebook.ipynb\" target=\"_parent\"><img src=\"https://colab.research.google.com/assets/colab-badge.svg\" alt=\"Open In Colab\"/></a>"
      ]
    },
    {
      "cell_type": "markdown",
      "metadata": {
        "id": "vNpIdq5BptBF",
        "colab_type": "text"
      },
      "source": [
        "# Hot End\n",
        "\n",
        "The Hotend is controlled with an EL3202 which is intended for DC motor control but ouputs the required PWM and has the required current capacity (2A combined)"
      ]
    },
    {
      "cell_type": "markdown",
      "metadata": {
        "id": "n2VJ0O1PoWt-",
        "colab_type": "text"
      },
      "source": [
        "\n",
        "## Hardware\n",
        " \n",
        "\n",
        "| Heater | RTD |\n",
        "|:-------:|:-----:|\n",
        "|![alt text](https://drive.google.com/uc?id=1mgSImOT2LJb-yuMfArm2hazKT6hKeQA0)        | ![alt text](https://drive.google.com/uc?id=1CI9dN6nvrY5cGpWfGdgr-2OW1aaTft9b)    |\n",
        "|[Datasheet](https://download.beckhoff.com/download/document/io/ethercat-terminals/el32xxen.pdf)        |  [Datasheet](https://download.beckhoff.com/download/document/io/ethercat-terminals/el73x2en.pdf)|   |\n",
        "|[RTD Module](https://www.beckhoff.com/EL3202/)      |   [Motor Module](https://www.beckhoff.com/EL7332/)  |\n",
        "\n",
        "\n",
        "Note:\n",
        "\n",
        "> If the EL3201/EL3202 is operated with a two-wire connection, the inputs +R and +RL must be bridged by the user.\n"
      ]
    },
    {
      "cell_type": "markdown",
      "metadata": {
        "id": "82yfAMeHo4bs",
        "colab_type": "text"
      },
      "source": [
        "## Controller Block\n",
        "\n",
        "\n",
        "Twincat Provides a temperature controller block that was found to work well and was simple to use.  [PID Temp Controller Block](https://infosys.beckhoff.com/english.php?content=../content/1033/tf4110_tc3_temperature_controller/9007199505388299.html&id=)\n",
        "\n",
        "![alt text](https://drive.google.com/uc?id=1kkOZnxfJZQyU2sGiK8h9wxu0s9Vk8_I1)\n",
        "\n",
        "* The Controller Supports Auto Tuning of the parameters and employs the inflectional tangent method to obtain the parameters\n",
        "\n",
        "* Configured with the controller structure - \n",
        "[ST_ControllerParameter](https://infosys.beckhoff.com/english.php?content=../content/1033/tf4110_tc3_temperature_controller/9007199505388299.html&id=)"
      ]
    },
    {
      "cell_type": "markdown",
      "metadata": {
        "id": "AkUxFMktovSx",
        "colab_type": "text"
      },
      "source": [
        "## Scaling\n",
        "\n",
        "ADC value of EL3202 is stored as INT type.\n",
        "* LB = -32768\n",
        "* UB= 32767\n",
        "* Memory = 16 Bit\n",
        "* P100 Measurement at Room Temp With Leads = 109 Ohm Module \"Value\" Reading at RT = 221\n",
        "* The module has a precision of 0.1 °C per digit\n",
        "$$Temp(°C)=\\frac{ADC_{raw}}{10}$$\n",
        "\n"
      ]
    },
    {
      "cell_type": "markdown",
      "metadata": {
        "id": "P7rsHhcbpAHk",
        "colab_type": "text"
      },
      "source": [
        "## Tuning\n",
        "Need to set the Tuning paremeters to minimise overshoot\n",
        "*  In this application We select \n",
        "> Slower settling with low overshoot \n",
        "\n",
        "\n",
        "![alt text](https://drive.google.com/uc?id=1zZEW2b16kl88dzfWfo_rmYUPFFRc3Eg7)"
      ]
    },
    {
      "cell_type": "markdown",
      "metadata": {
        "id": "karWR71uOaAh",
        "colab_type": "text"
      },
      "source": [
        "## State Model\n",
        "State Model for the operation of Extruder Systems is shown below\n",
        "![alt text](https://drive.google.com/uc?id=1Qcx-Oep-aHSVyFubSGl_iOsYmScpaWUm)\\\n",
        "[native file](https://drive.google.com/open!id=1KVCdCSzvTIKEIhofl_wVJl3tbSUifrWj)"
      ]
    },
    {
      "cell_type": "markdown",
      "metadata": {
        "colab_type": "text",
        "id": "COSmYV6aJcdN"
      },
      "source": [
        "# Stepper Motor\n"
      ]
    },
    {
      "cell_type": "markdown",
      "metadata": {
        "colab_type": "text",
        "id": "JSprP1oFLblt"
      },
      "source": [
        "## Specs\n",
        "|![alt text](https://drive.google.com/uc?id=1m0vmRihSnLJvtidjZyr2zxn77GmrcX9z) | ![alt text](https://drive.google.com/uc?id=1e1hG3SjZGp06CqxoFPHiZ0RN5QLszW3f)  |\n",
        "|:-:|:-:|"
      ]
    },
    {
      "cell_type": "markdown",
      "metadata": {
        "colab_type": "text",
        "id": "6_Ve72gDKopG"
      },
      "source": [
        "\n",
        "\n",
        "---\n",
        "\n"
      ]
    },
    {
      "cell_type": "markdown",
      "metadata": {
        "colab_type": "text",
        "id": "dIUXOfLEMY4x"
      },
      "source": [
        "## Calculations\n",
        "\n",
        "In order to extrude the expected amount of filament it is nessesary to scale the motor step increments to mm of filament extruded.  Thus the following needs to be taken into account:\n",
        "* Motor Step Angle (0.9Deg)\n",
        "* Microstepping of the Stepper Driver Module (Locked at 64)\n",
        "* Gear Ratio and Hobb Diameter\n"
      ]
    },
    {
      "cell_type": "code",
      "metadata": {
        "colab_type": "code",
        "id": "Le3sd1L-MhUd",
        "outputId": "083df33e-b77a-4dae-b4c1-6e9c42ebbf40",
        "colab": {
          "base_uri": "https://localhost:8080/",
          "height": 87
        }
      },
      "source": [
        "# Motor Parameters\n",
        "PI = 3.1415\n",
        "StepAngle = 0.9\n",
        "MotorSteps = 360/StepAngle\n",
        "# Driver Parameters\n",
        "Microstepping = 64\n",
        "StepsPerRevolution = MotorSteps * Microstepping\n",
        "# Extruder Properties\n",
        "GearRatio = 3\n",
        "HobbDia = 7.3\n",
        "\n",
        "# Extruder Steps per 1mm of Filament\n",
        "eStepsPerMM = (MotorSteps * Microstepping * GearRatio)/(HobbDia * PI)\n",
        "MMPerStep = 1/eStepsPerMM\n",
        "DistancePerRevolution = StepsPerRevolution * MMPerStep\n",
        "print(\"StepsPerRevolution = \", StepsPerRevolution)\n",
        "print(\"eStepsPerMM = \" ,eStepsPerMM)\n",
        "print(\"DistancePerRevolution = \" ,DistancePerRevolution)\n",
        "print(\"ScalingFactor = \" ,MMPerStep)"
      ],
      "execution_count": 5,
      "outputs": [
        {
          "output_type": "stream",
          "text": [
            "StepsPerRevolution =  25600.0\n",
            "eStepsPerMM =  3348.893186441343\n",
            "DistancePerRevolution =  7.6443166666666675\n",
            "ScalingFactor =  0.0002986061197916667\n"
          ],
          "name": "stdout"
        }
      ]
    },
    {
      "cell_type": "markdown",
      "metadata": {
        "colab_type": "text",
        "id": "Apkd4BytWQrl"
      },
      "source": [
        "### Beckoff tool\n",
        "![alt text](https://drive.google.com/uc?id=1BjXWi_dFCCp3zlSrKMNpVrAWMXN_VJxx)"
      ]
    },
    {
      "cell_type": "markdown",
      "metadata": {
        "colab_type": "text",
        "id": "_ZuTbro1dkQf"
      },
      "source": [
        "### Fine Tuning\n",
        "Despite the calculation above several factors result in minor difference in the actual length of filament extruded.  Based on this guide the scalefactor was adjusted to ensure accurate extrusion \n",
        "* [e_steps per mm guide](https://e3d-online.dozuki.com/Guide/Titan+Marlin+Configuration/35)\n",
        "\n"
      ]
    },
    {
      "cell_type": "code",
      "metadata": {
        "colab_type": "code",
        "id": "ls382r-Adu-b",
        "outputId": "e2fc8a65-5072-4f66-87a3-861346db21c8",
        "colab": {
          "base_uri": "https://localhost:8080/",
          "height": 34
        }
      },
      "source": [
        "desiredExtDist = 100\n",
        "actualExtDist = 104\n",
        "overExtrudPercent = actualExtDist/desiredExtDist\n",
        "MMPerStepTuned = MMPerStep *overExtrudPercent\n",
        "print(\"MMPerStepTuned=\", MMPerStepTuned)"
      ],
      "execution_count": 6,
      "outputs": [
        {
          "output_type": "stream",
          "text": [
            "MMPerStepTuned= 0.00031055036458333334\n"
          ],
          "name": "stdout"
        }
      ]
    },
    {
      "cell_type": "markdown",
      "metadata": {
        "id": "ebEZZxb2d0If",
        "colab_type": "text"
      },
      "source": [
        "### Axis_Extruder Parameters\n",
        "Using the Parameters obtained above the, Encoder was set to \"Simulation Encoder\" to operate in open loop and velocities and acceleartions were set to avoid skipping steps and driving the extruder too fast\n",
        "\n",
        "|![alt text](https://drive.google.com/uc?id=1yUlm0TpPt8iUttkU2cDxYavFRvxqTsb0)  |![alt text](https://drive.google.com/uc?id=1qq1dVnbQCe66JC0YspFWy5SCGkXfslBM)|\n",
        "|:-:|:-:|\n",
        "\n",
        "\n"
      ]
    },
    {
      "cell_type": "markdown",
      "metadata": {
        "colab_type": "text",
        "id": "x0Y6qwmC3YHL"
      },
      "source": [
        "# Motor Control"
      ]
    },
    {
      "cell_type": "markdown",
      "metadata": {
        "id": "FsMIdYIdTy6x",
        "colab_type": "text"
      },
      "source": [
        "## Drive State Diagram and Transitions\n",
        "\n",
        "| ![alt text](https://drive.google.com/uc?id=1aonEgO-u-1E-3yUOZEb4QfRzxAKpJB_R)  |![alt text](https://drive.google.com/uc?id=1oRgx5m4o6Z-FkC3u7rePCYn_LI6TQgCj)   |\n",
        "|:-:|:-:|\n",
        "\n",
        "\n"
      ]
    },
    {
      "cell_type": "markdown",
      "metadata": {
        "colab_type": "text",
        "id": "lynqujna-V_H"
      },
      "source": [
        "## Drive State and Status\n",
        "The Epos2 Drive is controlled Over CAN via TxPDOs which are configured with the EPOS software over USB the address is determined by node ID\n",
        "* Status Word: (16 bits) that communicates the states of the drive\n",
        "* Th_1 Node_ID = 3\n",
        "* Th_2 Node_ID = 2\n",
        "\n",
        "---\n",
        "\n",
        "\n",
        "|![alt text](https://drive.google.com/uc?id=1MAXy9yOu0d468Aeazjn73ph9VA1ugjU_)| ![alt text](https://drive.google.com/uc?id=14Kwsdnyo5GGpvTvo5LNxnTdDEfRBDR3I)\n",
        "|:-:|:-:|\n",
        "\n"
      ]
    },
    {
      "cell_type": "markdown",
      "metadata": {
        "colab_type": "text",
        "id": "MnwmpVZp3kmT"
      },
      "source": [
        "## Control Word\n",
        "The Epos2 Drive is controlled Over CAN via RxPDOs which are configured with the EPOS software over USB the address is determined by node ID\n",
        "\n",
        "* Control Word: (16 bits) that has to be set in the correct \n",
        "sequence to ensure the controller is in the correct state to accept the next command\n",
        "\n",
        "| ![alt text](https://drive.google.com/uc?id=1_4RG8IrNsgCcCCZuwJhPFGzfX31RgPZW)|![alt text](https://drive.google.com/uc?id=10bd0_3ZmasV0W4XHnOh06VRfamIpx5CR) |\n",
        "|:-:|:-:|\n",
        "\n",
        "### Example\n",
        "To Enable the drive from startup for to accept move commands:\n",
        "1. Drive Boots up in Switched on Disabled mode (Bit 6 set)\n",
        "2. Need to issue shut command (0x06)\n",
        "3. Issue Switch On Command (0x07) or Switch On and Enable (0x0F)\n",
        "\n",
        "### Program and Function Blocks\n",
        "\n",
        "PRG_AxesEnable Programs handles Enabling and disabling an initialised drive and makes use of the FB_EnableAxis Function block to communicate with the drives and enabling the Axis under TwinCat."
      ]
    },
    {
      "cell_type": "markdown",
      "metadata": {
        "colab_type": "text",
        "id": "Th4ez3LOTOvz"
      },
      "source": [
        "## Encoder Scaling\n",
        "\n",
        "Motor: [link text](http://www.servovision.com/Motor1/E/157.pdf)\\\n",
        "Encoder: [link text](https://www.maxongroup.com/medias/sys_master/root/8831078924318/2018EN-419.pdf)\\\n",
        "Gearbox [link text](https://www.maxongroup.com/medias/sys_master/root/8831028494366/2018EN-333.pdf)\\\n",
        "Motor and GB Combo:  [link text](https://www.maxongroup.com/maxon/view/service_search?query=359565)\n",
        "\n",
        "![alt text](https://drive.google.com/uc?id=1hs4-zDvSwsLzOHgHFSBMAGJ7z_bqDv9g)\n",
        "\n",
        "Similar to the extruder scaling above it was nessesary to scale the encode values to corresponds to the Degrees of rotation of each axis.  Twincat defines a step as quadcounts at this is used to obtain the °/INC Required\n",
        "\n",
        "![alt text](https://drive.google.com/uc?id=1M8DocFHxlwvJqKjhfo1MMe-ynOPOXW7I)"
      ]
    },
    {
      "cell_type": "code",
      "metadata": {
        "colab_type": "code",
        "id": "oociQdgBqfI6",
        "outputId": "59f7ef84-2987-4e38-fd99-3544c7402c45",
        "colab": {
          "base_uri": "https://localhost:8080/",
          "height": 34
        }
      },
      "source": [
        "encoderCounts = 512\n",
        "RevolutionDeg = 360\n",
        "GBratio = 128\n",
        "DriveRatio = 1  # 3:1 (20teeth to 60 teeth when belts are mounted)\n",
        "SF = (RevolutionDeg/(encoderCounts*4))/GBratio * DriveRatio\n",
        "print('Scaling factor: ', SF)"
      ],
      "execution_count": 1,
      "outputs": [
        {
          "output_type": "stream",
          "text": [
            "Scaling factor:  0.001373291015625\n"
          ],
          "name": "stdout"
        }
      ]
    },
    {
      "cell_type": "markdown",
      "metadata": {
        "id": "n8TGu_QBlFvp",
        "colab_type": "text"
      },
      "source": [
        "## Motion Control\n",
        "\n",
        "The EPOS drives are controlled in VelocityMode by providing velocity setpoints and obtaining feedback over CAN directly which is linked directly to Axis Encoder inputs and drive   \n",
        "* An RxPDO is used set the drives Target Velocity (connected to Axis Drive nDataOut1[0])\n",
        "* An TxPDO is used for obtaining the feeback.  Position Actual (connected to encoder nDataIn1)\n",
        "* TwinCAT NCI is responsible for Setpoint generation based on Online jogging or G-Code \n",
        "\n",
        "|![alt text](https://drive.google.com/uc?id=1eDjsZqQ4ctjpQCVKU8UBVm8mwylcnJx9)|![alt text](https://drive.google.com/uc?id=1AHMdReAxnlSb2yhJBdxwa8QmpxtHwUX-)   |![alt text](https://drive.google.com/uc?id=1L8-Eh3plynrJqJLsQtKWMXtL6vDciWjJ)   \n",
        "|:-:|:-:|:-:|\n",
        "\n",
        "\n"
      ]
    }
  ]
}