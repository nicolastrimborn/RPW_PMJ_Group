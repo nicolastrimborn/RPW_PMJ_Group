{
  "nbformat": 4,
  "nbformat_minor": 0,
  "metadata": {
    "colab": {
      "name": "HotEnd.ipynb",
      "provenance": [],
      "collapsed_sections": [],
      "toc_visible": true,
      "include_colab_link": true
    },
    "kernelspec": {
      "name": "python3",
      "display_name": "Python 3"
    }
  },
  "cells": [
    {
      "cell_type": "markdown",
      "metadata": {
        "id": "view-in-github",
        "colab_type": "text"
      },
      "source": [
        "<a href=\"https://colab.research.google.com/github/nicolastrimborn/RPW_PMJ_Group/blob/master/JupyterNotebook/HotEnd.ipynb\" target=\"_parent\"><img src=\"https://colab.research.google.com/assets/colab-badge.svg\" alt=\"Open In Colab\"/></a>"
      ]
    },
    {
      "cell_type": "markdown",
      "metadata": {
        "id": "IkgMtxNTiLd7",
        "colab_type": "text"
      },
      "source": [
        "# HotEnd"
      ]
    },
    {
      "cell_type": "markdown",
      "metadata": {
        "id": "1yAGqaNniK3Y",
        "colab_type": "text"
      },
      "source": [
        "## RTD\n"
      ]
    },
    {
      "cell_type": "markdown",
      "metadata": {
        "id": "GacBLgcMiYh2",
        "colab_type": "text"
      },
      "source": [
        "### Hardware\n",
        "![alt text](https://drive.google.com/uc?id=1mgSImOT2LJb-yuMfArm2hazKT6hKeQA0)"
      ]
    },
    {
      "cell_type": "markdown",
      "metadata": {
        "id": "g4nDO7bkiiZU",
        "colab_type": "text"
      },
      "source": [
        "[RTD Module](https://www.beckhoff.com/EL3202/)\\\n",
        "[Datasheet](https://download.beckhoff.com/download/document/io/ethercat-terminals/el32xxen.pdf)\n",
        "\n",
        "If the EL3201/EL3202 is operated with a two-wire connection, the inputs +R and +RL must be bridged by the user.\n",
        "\n",
        "P100 Measurement at Room Temp With Leads = 109 Ohm\n",
        "Module \"Value\" Reading at RT = 221"
      ]
    },
    {
      "cell_type": "markdown",
      "metadata": {
        "id": "Ldp-n6uMyG-z",
        "colab_type": "text"
      },
      "source": [
        "### Scaling\n",
        "\n",
        "ADC value of EL3202 is stored as INT type.\n",
        "* LB = -32768\n",
        "* UB= 32767\n",
        "* Memory = 16 Bit"
      ]
    },
    {
      "cell_type": "code",
      "metadata": {
        "id": "qKxfjXkkyKkd",
        "colab_type": "code",
        "colab": {}
      },
      "source": [
        "Raw value = 221"
      ],
      "execution_count": 0,
      "outputs": []
    }
  ]
}