{
  "nbformat": 4,
  "nbformat_minor": 0,
  "metadata": {
    "colab": {
      "name": "StepperMotor.ipynb",
      "provenance": [],
      "collapsed_sections": [],
      "toc_visible": true,
      "include_colab_link": true
    },
    "kernelspec": {
      "name": "python3",
      "display_name": "Python 3"
    }
  },
  "cells": [
    {
      "cell_type": "markdown",
      "metadata": {
        "id": "view-in-github",
        "colab_type": "text"
      },
      "source": [
        "<a href=\"https://colab.research.google.com/github/nicolastrimborn/RPW_PMJ_Group/blob/master/JupyterNotebook/StepperMotor.ipynb\" target=\"_parent\"><img src=\"https://colab.research.google.com/assets/colab-badge.svg\" alt=\"Open In Colab\"/></a>"
      ]
    },
    {
      "cell_type": "markdown",
      "metadata": {
        "id": "COSmYV6aJcdN",
        "colab_type": "text"
      },
      "source": [
        "# Stepper Motor\n"
      ]
    },
    {
      "cell_type": "markdown",
      "metadata": {
        "id": "JSprP1oFLblt",
        "colab_type": "text"
      },
      "source": [
        "## Specs"
      ]
    },
    {
      "cell_type": "markdown",
      "metadata": {
        "id": "6_Ve72gDKopG",
        "colab_type": "text"
      },
      "source": [
        "![alt text](https://drive.google.com/uc?id=1m0vmRihSnLJvtidjZyr2zxn77GmrcX9z)\n",
        "\n",
        "---\n",
        "\n"
      ]
    },
    {
      "cell_type": "markdown",
      "metadata": {
        "id": "X1EgupYmKQ4Y",
        "colab_type": "text"
      },
      "source": [
        "## Wiring Diagram"
      ]
    },
    {
      "cell_type": "markdown",
      "metadata": {
        "id": "w-ZAubdlLncr",
        "colab_type": "text"
      },
      "source": [
        "![alt text](https://drive.google.com/uc?id=1e1hG3SjZGp06CqxoFPHiZ0RN5QLszW3f)"
      ]
    },
    {
      "cell_type": "markdown",
      "metadata": {
        "id": "dIUXOfLEMY4x",
        "colab_type": "text"
      },
      "source": [
        "## Calculations"
      ]
    },
    {
      "cell_type": "code",
      "metadata": {
        "id": "Le3sd1L-MhUd",
        "colab_type": "code",
        "outputId": "84a20a95-c461-406d-ab9f-a6df9182acd4",
        "colab": {
          "base_uri": "https://localhost:8080/",
          "height": 84
        }
      },
      "source": [
        "# Motor Parameters\n",
        "PI = 3.1415\n",
        "StepAngle = 0.9\n",
        "MotorSteps = 360/StepAngle\n",
        "# Driver Parameters\n",
        "Microstepping = 64\n",
        "StepsPerRevolution = MotorSteps * Microstepping\n",
        "# Extruder Properties\n",
        "GearRatio = 3\n",
        "HobbDia = 7.3\n",
        "\n",
        "# Extruder Steps per 1mm of Filament\n",
        "eStepsPerMM = (MotorSteps * Microstepping * GearRatio)/(HobbDia * PI)\n",
        "MMPerStep = 1/eStepsPerMM\n",
        "DistancePerRevolution = StepsPerRevolution * MMPerStep\n",
        "print(\"StepsPerRevolution = \", StepsPerRevolution)\n",
        "print(\"eStepsPerMM = \" ,eStepsPerMM)\n",
        "print(\"MMPerStep = \" ,MMPerStep)\n",
        "print(\"DistancePerRevolution = \" ,DistancePerRevolution)"
      ],
      "execution_count": 0,
      "outputs": [
        {
          "output_type": "stream",
          "text": [
            "StepsPerRevolution =  25600.0\n",
            "eStepsPerMM =  3348.893186441343\n",
            "MMPerStep =  0.0002986061197916667\n",
            "DistancePerRevolution =  7.6443166666666675\n"
          ],
          "name": "stdout"
        }
      ]
    },
    {
      "cell_type": "markdown",
      "metadata": {
        "id": "Apkd4BytWQrl",
        "colab_type": "text"
      },
      "source": [
        "### Beckoff tool\n",
        "![alt text](https://drive.google.com/uc?id=1BjXWi_dFCCp3zlSrKMNpVrAWMXN_VJxx)"
      ]
    },
    {
      "cell_type": "markdown",
      "metadata": {
        "id": "_ZuTbro1dkQf",
        "colab_type": "text"
      },
      "source": [
        "### Fine Tuning\n",
        "https://e3d-online.dozuki.com/Guide/Titan+Marlin+Configuration/35"
      ]
    },
    {
      "cell_type": "code",
      "metadata": {
        "id": "ls382r-Adu-b",
        "colab_type": "code",
        "outputId": "2a1b6d23-3e5b-44f9-d611-56a958c76685",
        "colab": {
          "base_uri": "https://localhost:8080/",
          "height": 34
        }
      },
      "source": [
        "desiredExtDist = 100\n",
        "actualExtDist = 104\n",
        "overExtrudPercent = actualExtDist/desiredExtDist\n",
        "MMPerStepTuned = MMPerStep *overExtrudPercent\n",
        "print(\"MMPerStepTuned=\", MMPerStepTuned)"
      ],
      "execution_count": 0,
      "outputs": [
        {
          "output_type": "stream",
          "text": [
            "MMPerStepTuned= 0.00031055036458333334\n"
          ],
          "name": "stdout"
        }
      ]
    }
  ]
}